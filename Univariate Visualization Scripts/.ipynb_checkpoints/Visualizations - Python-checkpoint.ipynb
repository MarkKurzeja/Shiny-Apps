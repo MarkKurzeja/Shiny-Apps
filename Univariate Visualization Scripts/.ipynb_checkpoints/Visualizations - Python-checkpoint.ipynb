{
 "cells": [
  {
   "cell_type": "code",
   "execution_count": null,
   "metadata": {
    "collapsed": true
   },
   "outputs": [],
   "source": []
  },
  {
   "cell_type": "code",
   "execution_count": 63,
   "metadata": {},
   "outputs": [
    {
     "name": "stderr",
     "output_type": "stream",
     "text": [
      "C:\\Anaconda\\lib\\site-packages\\ipykernel_launcher.py:10: SettingWithCopyWarning: \n",
      "A value is trying to be set on a copy of a slice from a DataFrame\n",
      "\n",
      "See the caveats in the documentation: http://pandas.pydata.org/pandas-docs/stable/indexing.html#indexing-view-versus-copy\n",
      "  # Remove the CWD from sys.path while we load stuff.\n",
      "C:\\Anaconda\\lib\\site-packages\\ipykernel_launcher.py:61: SettingWithCopyWarning: \n",
      "A value is trying to be set on a copy of a slice from a DataFrame\n",
      "\n",
      "See the caveats in the documentation: http://pandas.pydata.org/pandas-docs/stable/indexing.html#indexing-view-versus-copy\n",
      "C:\\Anaconda\\lib\\site-packages\\ipykernel_launcher.py:62: SettingWithCopyWarning: \n",
      "A value is trying to be set on a copy of a slice from a DataFrame\n",
      "\n",
      "See the caveats in the documentation: http://pandas.pydata.org/pandas-docs/stable/indexing.html#indexing-view-versus-copy\n",
      "C:\\Anaconda\\lib\\site-packages\\ipykernel_launcher.py:72: SettingWithCopyWarning: \n",
      "A value is trying to be set on a copy of a slice from a DataFrame\n",
      "\n",
      "See the caveats in the documentation: http://pandas.pydata.org/pandas-docs/stable/indexing.html#indexing-view-versus-copy\n",
      "C:\\Anaconda\\lib\\site-packages\\ipykernel_launcher.py:74: SettingWithCopyWarning: \n",
      "A value is trying to be set on a copy of a slice from a DataFrame\n",
      "\n",
      "See the caveats in the documentation: http://pandas.pydata.org/pandas-docs/stable/indexing.html#indexing-view-versus-copy\n"
     ]
    }
   ],
   "source": [
    "import pandas as pd\n",
    "import matplotlib.mlab as mlab\n",
    "import matplotlib.pyplot as plt\n",
    "import seaborn as sns\n",
    "import numpy as np\n",
    "\n",
    "nhanes = pd.read_csv(\"./nhanes.csv\")\n",
    "\n",
    "# Fix the Male-Female coding in the gender data\n",
    "nhanes.ridstatr[nhanes.ridstatr == 1] = \"Male\"\n",
    "nhanes.ridstatr[nhanes.ridstatr == 2] = \"Female\"\n",
    "nhanes.ridstatr\n",
    "\n",
    "# Fxn for plotting a basic histogram\n",
    "def plotdat(x, xlab, ylab, bin_num = 30):\n",
    "    x = pd.to_numeric(x)\n",
    "    x = x[~np.isnan(x)]\n",
    "    for i in [\"hist\", \"boxplot\"]:\n",
    "        if i == \"hist\":\n",
    "            n, bins, patches = plt.hist(x, bin_num)\n",
    "            fname = \"./pyplots/hist - %s.svg\" % xlab\n",
    "        else:\n",
    "            fname = \"./pyplots/boxplot - %s.svg\" % xlab\n",
    "            plt.boxplot(x, vert = False)\n",
    "            ylab = \"\"\n",
    "\n",
    "        plt.xlabel(xlab)\n",
    "        plt.ylabel(ylab)\n",
    "        plt.savefig(fname, bbox_inches='tight')\n",
    "        plt.clf()\n",
    "\n",
    "# Fxn for plotting a histogram that is faceted\n",
    "def plotdat_facet(x, plt_var, facetvar, xlab, ylab, bin_num = 30):\n",
    "    for i in [\"hist\", \"boxplot\"]:\n",
    "        g = sns.FacetGrid(x, col=facetvar, margin_titles = True, sharey = False)\n",
    "        fname = \"./pyplots/%s - %s + %s.svg\" % (i, xlab, facetvar)\n",
    "        if i == \"hist\":\n",
    "            g.map(plt.hist, plt_var, bins = bin_num)\n",
    "        else:\n",
    "            g.map(sns.boxplot, x= x[plt_var])\n",
    "            ylab = \"\"\n",
    "        plt.xlabel(xlab)\n",
    "        plt.ylabel(ylab)\n",
    "        #plt.show()\n",
    "        plt.savefig(fname, bbox_inches='tight')\n",
    "        plt.close()\n",
    "\n",
    "# Plotting the Nhanes Dataset\n",
    "plotdat(nhanes['age'], \"Age\", \"Count\")\n",
    "plotdat(nhanes['BPXSY1'], \"Systolic Blood Pressure\", \"Count\")\n",
    "plotdat(nhanes['lbdhdd'], \"HDL Cholesterol\", \"Count\")\n",
    "plotdat(nhanes['bmxbmi'], \"BMI\", \"Count\")\n",
    "\n",
    "plotdat_facet(nhanes, \"age\", \"ridstatr\", \"Age\", \"Count\")\n",
    "plotdat_facet(nhanes, \"BPXSY1\", \"ridstatr\", \"Systolic Blood Pressure\", \"Count\")\n",
    "plotdat_facet(nhanes, \"lbdhdd\", \"ridstatr\", \"HDL Cholesterol\", \"Count\")\n",
    "plotdat_facet(nhanes, \"bmxbmi\", \"ridstatr\", \"BMI\", \"Count\")\n",
    "\n",
    "# Plotting the cartwheel data\n",
    "cwdata = pd.read_csv(\"./Cartwheeldata.csv\")\n",
    "cwdata.Gender[cwdata.Gender == \"F\"] = \"Female\"\n",
    "cwdata.Gender[cwdata.Gender == \"M\"] = \"Male\"\n",
    "cwdata['Distance'] = cwdata.CWDistance\n",
    "\n",
    "plotdat(cwdata.Height, \"Height\", \"Count\", bin_num = 10)\n",
    "plotdat(cwdata.CWDistance, \"Distance\", \"Count\", bin_num = 10)\n",
    "plotdat_facet(cwdata, \"Height\", \"Gender\", \"Height\", \"Count\", bin_num = 10)\n",
    "plotdat_facet(cwdata, \"Distance\", \"Gender\", \"Distance\", \"Count\", bin_num = 10)\n",
    "\n",
    "# Plotting the salary data\n",
    "saldat = pd.read_csv(\"./Salaries.csv\")\n",
    "saldat.BasePay[saldat.BasePay == \"Not Provided\"] = np.nan\n",
    "#saldat.TotalPayBenefits[saldat.TotalPayBenefits == \"Not Provided\"] = np.nan\n",
    "saldat.Benefits[saldat.Benefits == \"Not Provided\"] = np.nan\n",
    "plotdat(saldat.BasePay, \"Base Pay\", \"Count\")\n",
    "plotdat(saldat.TotalPayBenefits, \"Total Pay and Benefits\", \"Count\")\n",
    "plotdat(saldat.Benefits, \"Benefits\", \"Count\")"
   ]
  },
  {
   "cell_type": "code",
   "execution_count": null,
   "metadata": {
    "collapsed": true
   },
   "outputs": [],
   "source": []
  }
 ],
 "metadata": {
  "kernelspec": {
   "display_name": "Python 2",
   "language": "python",
   "name": "python2"
  },
  "language_info": {
   "codemirror_mode": {
    "name": "ipython",
    "version": 2
   },
   "file_extension": ".py",
   "mimetype": "text/x-python",
   "name": "python",
   "nbconvert_exporter": "python",
   "pygments_lexer": "ipython2",
   "version": "2.7.14"
  }
 },
 "nbformat": 4,
 "nbformat_minor": 2
}
